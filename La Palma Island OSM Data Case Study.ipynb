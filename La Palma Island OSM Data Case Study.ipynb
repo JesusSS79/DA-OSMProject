{
 "cells": [
  {
   "cell_type": "markdown",
   "metadata": {},
   "source": [
    "# La Palma Island OSM Data Case Study\n",
    "---"
   ]
  },
  {
   "cell_type": "markdown",
   "metadata": {},
   "source": [
    "### Map Area"
   ]
  },
  {
   "cell_type": "markdown",
   "metadata": {},
   "source": [
    "La Palma, Islas Canarias, España\n",
    "https://www.openstreetmap.org/relation/1464825\n",
    "\n",
    "This is one of the Canary Islands that I do not know and I would like to know something of it before travel there."
   ]
  },
  {
   "cell_type": "code",
   "execution_count": 16,
   "metadata": {},
   "outputs": [
    {
     "name": "stdout",
     "output_type": "stream",
     "text": [
      "env: OSMFILE=LaPalma.osm\n"
     ]
    }
   ],
   "source": [
    "%env OSMFILE=LaPalma.osm"
   ]
  },
  {
   "cell_type": "markdown",
   "metadata": {},
   "source": [
    "First I perform a general check of elements of the map"
   ]
  },
  {
   "cell_type": "code",
   "execution_count": 15,
   "metadata": {},
   "outputs": [
    {
     "name": "stdout",
     "output_type": "stream",
     "text": [
      "{'bounds': 1,\n",
      " 'member': 8220,\n",
      " 'meta': 1,\n",
      " 'nd': 411918,\n",
      " 'node': 359093,\n",
      " 'note': 1,\n",
      " 'osm': 1,\n",
      " 'relation': 585,\n",
      " 'tag': 86422,\n",
      " 'way': 36357}\n"
     ]
    }
   ],
   "source": [
    "%run mapparser.py"
   ]
  },
  {
   "cell_type": "markdown",
   "metadata": {},
   "source": [
    "We can verify that the island is not empty at all and has about 350K nodes"
   ]
  },
  {
   "cell_type": "markdown",
   "metadata": {},
   "source": [
    "## Problems Encountered in the Map\n",
    "---"
   ]
  },
  {
   "cell_type": "markdown",
   "metadata": {},
   "source": [
    "The main problemns I found on the osm are the followings:\n",
    "+ (tags.py) Error characters, hyphen, number and some upper character in key tags \n",
    "+ (audit-streets.py) Duplicated references to same strigns, some abreviations (C/, Ctra., Avda.) and housenumber (and other fields) on street fields.  \n",
    "+ (audit-phoneNumber.py) Different phone number format (spaces, ., -, 0034) and double numbers."
   ]
  },
  {
   "cell_type": "code",
   "execution_count": 9,
   "metadata": {},
   "outputs": [
    {
     "name": "stdout",
     "output_type": "stream",
     "text": [
      "{'lower': 69013,\n",
      " 'lower_colon': 14166,\n",
      " 'lower_several_colon': 3072,\n",
      " 'other': 0,\n",
      " 'problemchars': 0,\n",
      " 'some_hyphen': 17,\n",
      " 'some_number': 66,\n",
      " 'some_upper': 88}\n"
     ]
    }
   ],
   "source": [
    "# Display problems on key tags\n",
    "%run tags.py"
   ]
  },
  {
   "cell_type": "code",
   "execution_count": 37,
   "metadata": {},
   "outputs": [
    {
     "name": "stdout",
     "output_type": "stream",
     "text": [
      "CALLE 30 DE MAYO Nº 1B (GENERAL TF-812 - SAN PEDRO KM 1.2) => Calle 30 DE MAYO Nº 1B (GENERAL TF-812 - SAN PEDRO KM 1.2)\n",
      "CARRETERA VECINAL A PUERTO NAOS LA LAGUNA KM 3.5 => Carretera VECINAL A PUERTO NAOS LA LAGUNA KM 3.5\n",
      "CARRETERA LP1- CRUCE SAN ANTONIO DEL MONTE KM. S/N => Carretera LP1- CRUCE SAN ANTONIO DEL MONTE KM. S/N\n",
      "CARRETERA GENERAL LA GRAMA, KM 3.8 (CARRETERA VARIANTE TF-812 KM 3.8) => Carretera GENERAL LA GRAMA, KM 3.8 (Carretera VARIANTE TF-812 KM 3.8)\n",
      "CARRETERA LP2 FUENCALIENTE KM 24.6 => Carretera LP2 FUENCALIENTE KM 24.6\n",
      "Ctra. Gral. de Tajuya, 2 => Carretera Gral. de Tajuya, 2\n",
      "Ctra. Gral Las Manchas => Carretera Gral Las Manchas\n",
      "Ctra. La Costa-El Faro => Carretera La Costa-El Faro\n",
      "Ctra. Puerto Naos A => Carretera Puerto Naos A\n",
      "Ctra. General de Padrón => Carretera General de Padrón\n",
      "8Ctra. Gral. Enpalme Dos Pinos => 8Carretera Gral. Enpalme Dos Pinos\n",
      "Created. Gral => Carretera Gral\n",
      "Crta. de Puerto Naos => Carretera de Puerto Naos\n",
      "Urbanizacón La Cascade => Urbanización La Cascade\n",
      "Avda. de La Constitucion => Avenida de La Constitucion\n",
      "carretera General => Carretera General\n",
      "camino La Ermita => Camino La Ermita\n",
      "C/ Maximiliano Pérez => Calle Maximiliano Pérez\n"
     ]
    }
   ],
   "source": [
    "# Display correctons on street names\n",
    "%run audit-streets.py"
   ]
  },
  {
   "cell_type": "code",
   "execution_count": 34,
   "metadata": {},
   "outputs": [
    {
     "name": "stdout",
     "output_type": "stream",
     "text": [
      "+34 922 48 65 69 => +34922486569\n",
      "639 837 643 => +34639837643\n",
      "922 48 57 35 => +34922485735\n",
      "673254021 => +34673254021\n",
      "+34 922 40 23 05 => +34922402305\n",
      "922.482.106 / 659.135.124 => +34922482106 / +34659135124\n",
      "+34 922 46 49 83 => +34922464983\n",
      "+34 922 46 00 30 => +34922460030\n",
      "922416304 => +34922416304\n",
      "+34 922088518 => +34922088518\n",
      "+34 922 49 12 30 => +34922491230\n",
      "+34 922 40 04 80 => +34922400480\n",
      "922464608 => +34922464608\n",
      "(+34) 922-40 60 00 => +34922406000\n",
      "+34 922 480443 => +34922480443\n",
      "+34 922 46 38 56 => +34922463856\n",
      "+34 922 444 475 => +34922444475\n",
      "+34 609 531 376 => +34609531376\n",
      "922 490 393 => +34922490393\n",
      "922485727 => +34922485727\n",
      "+34 922 464 028 => +34922464028\n",
      "922 40 81 00 => +34922408100\n",
      "922406146 => +34922406146\n",
      "+34 619 57 11 25 => +34619571125\n",
      "+34 922 40 19 13 => +34922401913\n",
      "+34 922 48 06 04 => +34922480604\n",
      "+34 922 493240 => +34922493240\n",
      "+34 922 45 17 27 => +34922451727\n",
      "+34 922 46 41 45 => +34922464145\n",
      "609 909 898 => +34609909898\n",
      "922 40 83 52 => +34922408352\n",
      "+34 922 46 23 20 => +34922462320\n",
      "+34 922460101 => +34922460101\n",
      "+31 922 017 001 => +31922017001\n",
      "+34 922 41 76 41 => +34922417641\n",
      "+34 922 44 44 27 => +34922444427\n",
      "680 407 772 => +34680407772\n",
      "922 49 32 28 => +34922493228\n",
      "+34 922 46 31 24 => +34922463124\n",
      "922 97 98 00 => +34922979800\n",
      "+34 922 40 00 15 => +34922400015\n",
      "922 497 064 => +34922497064\n",
      "+34 922 46 24 03 => +34922462403\n",
      "+34 922 493067 => +34922493067\n",
      "+34 922480447 => +34922480447\n",
      "922 444 450 => +34922444450\n",
      "922512844 => +34922512844\n",
      "922403070 => +34922403070\n",
      "+ 34 922 40 06 60 => +34922400660\n",
      "619 791 066 => +34619791066\n",
      "+34 646 458 155 => +34646458155\n",
      "922450350 => +34922450350\n",
      "+34 922 49 43 20 => +34922494320\n",
      "+34-608 017 826 => +34608017826\n",
      "922401447 => +34922401447\n",
      "922 497324 => +34922497324\n",
      "+34 922 464 886 => +34922464886\n",
      "922494155 => +34922494155\n",
      "+34 655 43 25 91 => +34655432591\n",
      "+34 922 181 463 => +34922181463\n",
      "+34922 40 00 36 => +34922400036\n",
      "+34 922 43 45 94 => +34922434594\n",
      "922461100 => +34922461100\n",
      "922 40 81 06 => +34922408106\n",
      "922486318 => +34922486318\n",
      "922 46 31 49 => +34922463149\n",
      "922 49 70 68 => +34922497068\n",
      "+34 922 43 52 91 => +34922435291\n",
      "+34 922 48 01 33 => +34922480133\n",
      "+34 922 46 3880 => +34922463880\n",
      "922 48 55 06 => +34922485506\n",
      "922411011 => +34922411011\n",
      "+34 922 461819 => +34922461819\n",
      "Tel.: 922 46 3574 => +34922463574\n",
      "+34 922 465 110 => +34922465110\n",
      "0034-922-415636 => +34922415636\n",
      "+34922411115 +34618752044 => +34922411115 / +34618752044\n",
      "+34 629 174 524 => +34629174524\n",
      "+34 922 48 02 35 => +34922480235\n",
      "635169993 => +34635169993\n",
      "+34 922 41 51 36 => +34922415136\n",
      "+34 686717263 => +34686717263\n"
     ]
    }
   ],
   "source": [
    "# Display phone numbers corrections\n",
    "%run audit-phoneNumbers.py"
   ]
  },
  {
   "cell_type": "markdown",
   "metadata": {},
   "source": [
    "# Data Overview and Additional Ideas\n",
    "---"
   ]
  },
  {
   "cell_type": "markdown",
   "metadata": {},
   "source": [
    "In the following part I will perform some exploration about some useful information in order to visit the island\n",
    "+ Places (Hamlets, Suburbs, Villages, ...)\n",
    "+ Amenity/Shops (Restaurants, pub, cafe, supermarkets, ...)\n",
    "+ Tourism (Natural and tourism points)\n",
    "+ Public transport"
   ]
  },
  {
   "cell_type": "code",
   "execution_count": 67,
   "metadata": {},
   "outputs": [],
   "source": [
    "from pymongo import MongoClient\n",
    "import json\n",
    "import pprint\n",
    "\n",
    "client = MongoClient(\"mongodb://localhost:27017\")\n",
    "db = client.OSM\n",
    "\n",
    "def display_results(var):\n",
    "    result = db.nodes.aggregate([{\"$match\": { var: {\"$ne\": None}}},\n",
    "                                 {\"$group\": {\"_id\": \"$\"+var, \"count\": {\"$sum\": 1}}},\n",
    "                                 {\"$sort\": {\"count\": -1}},\n",
    "                                 {\"$limit\": 10}])\n",
    "    for data in result:\n",
    "        pprint.pprint(data)\n",
    "    client.close()    "
   ]
  },
  {
   "cell_type": "markdown",
   "metadata": {},
   "source": [
    "With the results of the following query (count of place types) we can see that although the island is not very big is full enought of places."
   ]
  },
  {
   "cell_type": "code",
   "execution_count": 76,
   "metadata": {},
   "outputs": [
    {
     "name": "stdout",
     "output_type": "stream",
     "text": [
      "{'_id': 'hamlet', 'count': 87}\n",
      "{'_id': 'suburb', 'count': 62}\n",
      "{'_id': 'village', 'count': 30}\n",
      "{'_id': 'locality', 'count': 10}\n",
      "{'_id': 'isolated_dwelling', 'count': 5}\n",
      "{'_id': 'island', 'count': 4}\n",
      "{'_id': 'town', 'count': 3}\n",
      "{'_id': 'islet', 'count': 2}\n",
      "{'_id': 'square', 'count': 2}\n"
     ]
    }
   ],
   "source": [
    "display_results(\"place\")"
   ]
  },
  {
   "cell_type": "markdown",
   "metadata": {},
   "source": [
    "With the results of the following query (count of amenity/shop types) we can see we have enought restaurant, bars, pubs and cafes.\n",
    "Take into accound that the island is full of place with parking space."
   ]
  },
  {
   "cell_type": "code",
   "execution_count": 68,
   "metadata": {},
   "outputs": [
    {
     "name": "stdout",
     "output_type": "stream",
     "text": [
      "{'_id': 'parking', 'count': 446}\n",
      "{'_id': 'restaurant', 'count': 181}\n",
      "{'_id': 'recycling', 'count': 122}\n",
      "{'_id': 'bench', 'count': 95}\n",
      "{'_id': 'place_of_worship', 'count': 60}\n",
      "{'_id': 'bar', 'count': 54}\n",
      "{'_id': 'telephone', 'count': 51}\n",
      "{'_id': 'pub', 'count': 50}\n",
      "{'_id': 'toilets', 'count': 45}\n",
      "{'_id': 'cafe', 'count': 44}\n"
     ]
    }
   ],
   "source": [
    "display_results(\"amenity\")"
   ]
  },
  {
   "cell_type": "code",
   "execution_count": 70,
   "metadata": {},
   "outputs": [
    {
     "name": "stdout",
     "output_type": "stream",
     "text": [
      "{'_id': 'supermarket', 'count': 66}\n",
      "{'_id': 'clothes', 'count': 40}\n",
      "{'_id': 'convenience', 'count': 19}\n",
      "{'_id': 'car_repair', 'count': 12}\n",
      "{'_id': 'bakery', 'count': 10}\n",
      "{'_id': 'travel_agency', 'count': 9}\n",
      "{'_id': 'butcher', 'count': 9}\n",
      "{'_id': 'variety_store', 'count': 7}\n",
      "{'_id': 'hairdresser', 'count': 7}\n",
      "{'_id': 'car', 'count': 7}\n"
     ]
    }
   ],
   "source": [
    "display_results(\"shop\")"
   ]
  },
  {
   "cell_type": "markdown",
   "metadata": {},
   "source": [
    "The island is plenty of natural places and attraction, museum and artwork to visit during the travel."
   ]
  },
  {
   "cell_type": "code",
   "execution_count": 71,
   "metadata": {},
   "outputs": [
    {
     "name": "stdout",
     "output_type": "stream",
     "text": [
      "{'_id': 'water', 'count': 351}\n",
      "{'_id': 'tree', 'count': 224}\n",
      "{'_id': 'scrub', 'count': 88}\n",
      "{'_id': 'peak', 'count': 75}\n",
      "{'_id': 'cliff', 'count': 63}\n",
      "{'_id': 'coastline', 'count': 48}\n",
      "{'_id': 'beach', 'count': 37}\n",
      "{'_id': 'bare_rock', 'count': 30}\n",
      "{'_id': 'spring', 'count': 27}\n",
      "{'_id': 'wood', 'count': 24}\n"
     ]
    }
   ],
   "source": [
    "display_results(\"natural\")"
   ]
  },
  {
   "cell_type": "code",
   "execution_count": 74,
   "metadata": {},
   "outputs": [
    {
     "name": "stdout",
     "output_type": "stream",
     "text": [
      "{'_id': 'information', 'count': 259}\n",
      "{'_id': 'viewpoint', 'count': 152}\n",
      "{'_id': 'picnic_site', 'count': 51}\n",
      "{'_id': 'hotel', 'count': 48}\n",
      "{'_id': 'attraction', 'count': 41}\n",
      "{'_id': 'chalet', 'count': 38}\n",
      "{'_id': 'guest_house', 'count': 19}\n",
      "{'_id': 'museum', 'count': 19}\n",
      "{'_id': 'artwork', 'count': 11}\n",
      "{'_id': 'camp_site', 'count': 7}\n"
     ]
    }
   ],
   "source": [
    "display_results(\"tourism\")"
   ]
  },
  {
   "cell_type": "markdown",
   "metadata": {},
   "source": [
    "The density of platform and stops is enought to take into account use the public transport.\n",
    "There are also a lot of car shops and parking spaces.\n",
    "Then, it is possible use the public transport and the car renting."
   ]
  },
  {
   "cell_type": "code",
   "execution_count": 73,
   "metadata": {},
   "outputs": [
    {
     "name": "stdout",
     "output_type": "stream",
     "text": [
      "{'_id': 'platform', 'count': 215}\n",
      "{'_id': 'stop_position', 'count': 91}\n",
      "{'_id': 'yes', 'count': 1}\n"
     ]
    }
   ],
   "source": [
    "display_results(\"public_transport\")"
   ]
  },
  {
   "cell_type": "markdown",
   "metadata": {},
   "source": [
    "# Conclusion\n",
    "---"
   ]
  },
  {
   "cell_type": "markdown",
   "metadata": {},
   "source": [
    "After this review I am aware of the amount of information stored in OSM and I have to say that the level of detail is high and the quality too although I have made some corrections.\n",
    "The exploration has been enough to give me an idea of the characteristics of the island in terms of tourism, which is why I am satisfied with my information needs."
   ]
  }
 ],
 "metadata": {
  "kernelspec": {
   "display_name": "Python 3",
   "language": "python",
   "name": "python3"
  },
  "language_info": {
   "codemirror_mode": {
    "name": "ipython",
    "version": 3
   },
   "file_extension": ".py",
   "mimetype": "text/x-python",
   "name": "python",
   "nbconvert_exporter": "python",
   "pygments_lexer": "ipython3",
   "version": "3.6.5"
  }
 },
 "nbformat": 4,
 "nbformat_minor": 2
}
